{
 "cells": [
  {
   "cell_type": "markdown",
   "metadata": {},
   "source": [
    "# Import"
   ]
  },
  {
   "cell_type": "code",
   "execution_count": 6,
   "metadata": {},
   "outputs": [],
   "source": [
    "\n",
    "import numpy as np"
   ]
  },
  {
   "cell_type": "markdown",
   "metadata": {},
   "source": [
    "# Lista"
   ]
  },
  {
   "cell_type": "code",
   "execution_count": 7,
   "metadata": {},
   "outputs": [
    {
     "data": {
      "text/plain": [
       "[1, 2, 3, 4, 5, 6, 7, 8, 9, 10]"
      ]
     },
     "execution_count": 7,
     "metadata": {},
     "output_type": "execute_result"
    }
   ],
   "source": [
    "lista = list(range(1,11))\n",
    "lista"
   ]
  },
  {
   "cell_type": "markdown",
   "metadata": {},
   "source": [
    "## Arreglo"
   ]
  },
  {
   "cell_type": "code",
   "execution_count": 9,
   "metadata": {},
   "outputs": [
    {
     "data": {
      "text/plain": [
       "array([ 1,  2,  3,  4,  5,  6,  7,  8,  9, 10])"
      ]
     },
     "execution_count": 9,
     "metadata": {},
     "output_type": "execute_result"
    }
   ],
   "source": [
    "arreglo = np.array(lista)\n",
    "arreglo "
   ]
  },
  {
   "cell_type": "code",
   "execution_count": 10,
   "metadata": {},
   "outputs": [
    {
     "data": {
      "text/plain": [
       "numpy.ndarray"
      ]
     },
     "execution_count": 10,
     "metadata": {},
     "output_type": "execute_result"
    }
   ],
   "source": [
    "type(arreglo)"
   ]
  },
  {
   "cell_type": "markdown",
   "metadata": {},
   "source": [
    "# Tipos de datos\n"
   ]
  },
  {
   "cell_type": "code",
   "execution_count": 11,
   "metadata": {},
   "outputs": [
    {
     "data": {
      "text/plain": [
       "dtype('int32')"
      ]
     },
     "execution_count": 11,
     "metadata": {},
     "output_type": "execute_result"
    }
   ],
   "source": [
    "arreglo.dtype"
   ]
  },
  {
   "cell_type": "code",
   "execution_count": 16,
   "metadata": {},
   "outputs": [
    {
     "data": {
      "text/plain": [
       "array(dtype('int32'), dtype=object)"
      ]
     },
     "execution_count": 16,
     "metadata": {},
     "output_type": "execute_result"
    }
   ],
   "source": [
    "np.array(arreglo. dtype)"
   ]
  },
  {
   "cell_type": "code",
   "execution_count": 17,
   "metadata": {},
   "outputs": [
    {
     "data": {
      "text/plain": [
       "array([ 1.,  2.,  3.,  4.,  5.,  6.,  7.,  8.,  9., 10.], dtype=float32)"
      ]
     },
     "execution_count": 17,
     "metadata": {},
     "output_type": "execute_result"
    }
   ],
   "source": [
    "arreglo.astype(np.float32)"
   ]
  },
  {
   "cell_type": "markdown",
   "metadata": {},
   "source": [
    "<h2 style = \"color= blue\";><b>Funciones</b></h2>"
   ]
  },
  {
   "cell_type": "code",
   "execution_count": 19,
   "metadata": {},
   "outputs": [
    {
     "data": {
      "text/plain": [
       "array([ 1,  2,  3,  4,  5,  6,  7,  8,  9, 10])"
      ]
     },
     "execution_count": 19,
     "metadata": {},
     "output_type": "execute_result"
    }
   ],
   "source": [
    "arreglo_Num = np.arange(1,11)\n",
    "arreglo_Num"
   ]
  },
  {
   "cell_type": "code",
   "execution_count": 21,
   "metadata": {},
   "outputs": [
    {
     "data": {
      "text/plain": [
       "5.5"
      ]
     },
     "execution_count": 21,
     "metadata": {},
     "output_type": "execute_result"
    }
   ],
   "source": [
    "prom = np.mean(arreglo)\n",
    "prom"
   ]
  },
  {
   "cell_type": "code",
   "execution_count": 23,
   "metadata": {},
   "outputs": [
    {
     "data": {
      "text/plain": [
       "5.5"
      ]
     },
     "execution_count": 23,
     "metadata": {},
     "output_type": "execute_result"
    }
   ],
   "source": [
    "mediana = np.median(arreglo)\n",
    "mediana"
   ]
  },
  {
   "cell_type": "code",
   "execution_count": 24,
   "metadata": {},
   "outputs": [
    {
     "data": {
      "text/plain": [
       "array([1., 1., 1., 1., 1., 1., 1., 1., 1., 1., 1., 1., 1., 1., 1., 1., 1.,\n",
       "       1., 1., 1., 1., 1., 1., 1., 1., 1., 1., 1., 1., 1., 1., 1., 1., 1.,\n",
       "       1., 1., 1., 1., 1., 1., 1., 1., 1., 1., 1., 1., 1., 1., 1., 1., 1.,\n",
       "       1., 1., 1., 1., 1., 1., 1., 1., 1., 1., 1., 1., 1., 1., 1., 1., 1.,\n",
       "       1., 1., 1., 1., 1., 1., 1., 1., 1., 1., 1., 1., 1., 1., 1., 1., 1.,\n",
       "       1., 1., 1., 1., 1., 1., 1., 1., 1., 1., 1., 1., 1., 1., 1.])"
      ]
     },
     "execution_count": 24,
     "metadata": {},
     "output_type": "execute_result"
    }
   ],
   "source": [
    "uno = np.ones(100)\n",
    "uno"
   ]
  },
  {
   "cell_type": "code",
   "execution_count": 25,
   "metadata": {},
   "outputs": [
    {
     "data": {
      "text/plain": [
       "array([0., 0., 0., 0., 0., 0., 0., 0., 0., 0., 0., 0., 0., 0., 0., 0., 0.,\n",
       "       0., 0., 0., 0., 0., 0., 0., 0., 0., 0., 0., 0., 0., 0., 0., 0., 0.,\n",
       "       0., 0., 0., 0., 0., 0., 0., 0., 0., 0., 0., 0., 0., 0., 0., 0., 0.,\n",
       "       0., 0., 0., 0., 0., 0., 0., 0., 0., 0., 0., 0., 0., 0., 0., 0., 0.,\n",
       "       0., 0., 0., 0., 0., 0., 0., 0., 0., 0., 0., 0., 0., 0., 0., 0., 0.,\n",
       "       0., 0., 0., 0., 0., 0., 0., 0., 0., 0., 0., 0., 0., 0., 0.])"
      ]
     },
     "execution_count": 25,
     "metadata": {},
     "output_type": "execute_result"
    }
   ],
   "source": [
    "cero = np.zeros(100)\n",
    "cero"
   ]
  },
  {
   "cell_type": "code",
   "execution_count": 27,
   "metadata": {},
   "outputs": [
    {
     "data": {
      "text/plain": [
       "array([0.91873724, 0.26665865, 0.71632194, 0.14801622, 0.22290809,\n",
       "       0.91586175, 0.25916539, 0.14837702, 0.77260468, 0.16001268])"
      ]
     },
     "execution_count": 27,
     "metadata": {},
     "output_type": "execute_result"
    }
   ],
   "source": [
    "arreglo_Aleatorio = np.random.rand(10)\n",
    "arreglo_Aleatorio"
   ]
  },
  {
   "cell_type": "code",
   "execution_count": 33,
   "metadata": {},
   "outputs": [
    {
     "data": {
      "text/plain": [
       "array([[0.65964579],\n",
       "       [0.01769203],\n",
       "       [0.95865864]])"
      ]
     },
     "execution_count": 33,
     "metadata": {},
     "output_type": "execute_result"
    }
   ],
   "source": [
    "matriz = np.random.rand(3,1)\n",
    "matriz"
   ]
  },
  {
   "cell_type": "code",
   "execution_count": 35,
   "metadata": {},
   "outputs": [
    {
     "data": {
      "text/plain": [
       "array([[[[0.87802631, 0.86286781, 0.23331538, ..., 0.92751535,\n",
       "          0.04804018, 0.25720649],\n",
       "         [0.0732517 , 0.62174293, 0.60725541, ..., 0.45561686,\n",
       "          0.68367902, 0.20171292],\n",
       "         [0.06354297, 0.13098713, 0.94841126, ..., 0.89669482,\n",
       "          0.3429369 , 0.36049275],\n",
       "         ...,\n",
       "         [0.83729971, 0.88896552, 0.85957277, ..., 0.02692884,\n",
       "          0.26237032, 0.44438913],\n",
       "         [0.54749562, 0.17331934, 0.98630208, ..., 0.94567401,\n",
       "          0.81257372, 0.86644522],\n",
       "         [0.17225075, 0.70191003, 0.2403344 , ..., 0.03333547,\n",
       "          0.84660965, 0.45110861]],\n",
       "\n",
       "        [[0.14913068, 0.83800935, 0.28903314, ..., 0.89588938,\n",
       "          0.1286094 , 0.50369301],\n",
       "         [0.33547103, 0.43003514, 0.81552583, ..., 0.47359426,\n",
       "          0.28662952, 0.39996793],\n",
       "         [0.90536692, 0.60800296, 0.91645387, ..., 0.79031971,\n",
       "          0.09636059, 0.1521649 ],\n",
       "         ...,\n",
       "         [0.25337407, 0.85905097, 0.92970323, ..., 0.03080967,\n",
       "          0.82858704, 0.00217075],\n",
       "         [0.79720637, 0.30626342, 0.41864293, ..., 0.88800247,\n",
       "          0.99304888, 0.87287369],\n",
       "         [0.27156931, 0.51855326, 0.51565585, ..., 0.45580638,\n",
       "          0.89536385, 0.49397272]],\n",
       "\n",
       "        [[0.60459698, 0.95071692, 0.12697544, ..., 0.84232334,\n",
       "          0.89328066, 0.59865289],\n",
       "         [0.69423426, 0.81367745, 0.49449677, ..., 0.96716532,\n",
       "          0.66813298, 0.81417279],\n",
       "         [0.47469316, 0.08469881, 0.47448687, ..., 0.15101218,\n",
       "          0.42025863, 0.21828045],\n",
       "         ...,\n",
       "         [0.2844733 , 0.314468  , 0.35678772, ..., 0.30858844,\n",
       "          0.76318556, 0.27535461],\n",
       "         [0.43835849, 0.47700748, 0.73356521, ..., 0.52116463,\n",
       "          0.44777655, 0.50208124],\n",
       "         [0.35421679, 0.73217311, 0.92778995, ..., 0.16078546,\n",
       "          0.61489776, 0.89633122]],\n",
       "\n",
       "        ...,\n",
       "\n",
       "        [[0.11670003, 0.87768818, 0.64350622, ..., 0.2354014 ,\n",
       "          0.92777754, 0.24367963],\n",
       "         [0.11842084, 0.44314836, 0.48695807, ..., 0.20937489,\n",
       "          0.07859963, 0.38151314],\n",
       "         [0.65617652, 0.4363597 , 0.21885692, ..., 0.03113097,\n",
       "          0.23308848, 0.35074979],\n",
       "         ...,\n",
       "         [0.11032614, 0.66685838, 0.53315914, ..., 0.47373114,\n",
       "          0.63040394, 0.86693506],\n",
       "         [0.91684263, 0.36716295, 0.27402817, ..., 0.96362516,\n",
       "          0.3346119 , 0.7716268 ],\n",
       "         [0.01395625, 0.12218485, 0.32151314, ..., 0.13625746,\n",
       "          0.15382067, 0.67395884]],\n",
       "\n",
       "        [[0.57383815, 0.33395027, 0.01157121, ..., 0.98503894,\n",
       "          0.27680378, 0.97061887],\n",
       "         [0.38699293, 0.86777006, 0.8400354 , ..., 0.63771156,\n",
       "          0.19117976, 0.77880944],\n",
       "         [0.22761647, 0.76572724, 0.90589097, ..., 0.53670617,\n",
       "          0.99304926, 0.60470327],\n",
       "         ...,\n",
       "         [0.3545591 , 0.1571722 , 0.78566324, ..., 0.10019678,\n",
       "          0.25859388, 0.80027854],\n",
       "         [0.31277452, 0.93763569, 0.94276745, ..., 0.33752739,\n",
       "          0.28169591, 0.87412419],\n",
       "         [0.99874894, 0.23187937, 0.5699053 , ..., 0.26695496,\n",
       "          0.35231148, 0.101664  ]],\n",
       "\n",
       "        [[0.92814773, 0.61703692, 0.31192818, ..., 0.84925392,\n",
       "          0.02129346, 0.49321164],\n",
       "         [0.76958511, 0.13953011, 0.65705582, ..., 0.90758155,\n",
       "          0.47119888, 0.41041547],\n",
       "         [0.75690467, 0.91173172, 0.78838067, ..., 0.47746276,\n",
       "          0.71455814, 0.04455694],\n",
       "         ...,\n",
       "         [0.33765658, 0.85884555, 0.10402929, ..., 0.73645202,\n",
       "          0.49813033, 0.79562979],\n",
       "         [0.56557508, 0.66203247, 0.86916263, ..., 0.50321065,\n",
       "          0.85535035, 0.52381036],\n",
       "         [0.96095156, 0.04481041, 0.49021373, ..., 0.87638303,\n",
       "          0.56749919, 0.70703941]]]])"
      ]
     },
     "execution_count": 35,
     "metadata": {},
     "output_type": "execute_result"
    }
   ],
   "source": [
    "arreglo_random = np.random.rand(1,1001,10,10)\n",
    "arreglo_random"
   ]
  },
  {
   "cell_type": "markdown",
   "metadata": {},
   "source": []
  },
  {
   "cell_type": "code",
   "execution_count": null,
   "metadata": {},
   "outputs": [],
   "source": []
  }
 ],
 "metadata": {
  "kernelspec": {
   "display_name": "Python 3",
   "language": "python",
   "name": "python3"
  },
  "language_info": {
   "codemirror_mode": {
    "name": "ipython",
    "version": 3
   },
   "file_extension": ".py",
   "mimetype": "text/x-python",
   "name": "python",
   "nbconvert_exporter": "python",
   "pygments_lexer": "ipython3",
   "version": "3.12.2"
  }
 },
 "nbformat": 4,
 "nbformat_minor": 2
}
