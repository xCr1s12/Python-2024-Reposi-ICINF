{
 "cells": [
  {
   "cell_type": "markdown",
   "metadata": {},
   "source": [
    "<h3 style=\"font-style: italic; color: lightblue; \"><b>Ejercicio N1</b></h3>"
   ]
  },
  {
   "cell_type": "code",
   "execution_count": 2,
   "metadata": {},
   "outputs": [],
   "source": [
    "import matplotlib.pyplot as plt\n",
    "import numpy as np \n",
    "import pandas as pd"
   ]
  },
  {
   "cell_type": "markdown",
   "metadata": {},
   "source": [
    "<h5 style=\"font-style: italic; color: lightblue; \"><b>A)</b></h5>"
   ]
  },
  {
   "cell_type": "code",
   "execution_count": 124,
   "metadata": {},
   "outputs": [
    {
     "data": {
      "text/plain": [
       "0     artist                      Britney Spears\n",
       "      song                Oops!...I Did It Again\n",
       "      duration_ms                         211160\n",
       "      explicit                             False\n",
       "      year                                  2000\n",
       "                                   ...          \n",
       "1999  instrumentalness                   0.00244\n",
       "      liveness                            0.0863\n",
       "      valence                              0.553\n",
       "      tempo                              120.042\n",
       "      genre                              hip hop\n",
       "Length: 35999, dtype: object"
      ]
     },
     "execution_count": 124,
     "metadata": {},
     "output_type": "execute_result"
    }
   ],
   "source": [
    "df = pd.read_csv(\"songs_normalize.csv\")\n",
    "df.stack()"
   ]
  },
  {
   "cell_type": "code",
   "execution_count": 8,
   "metadata": {},
   "outputs": [
    {
     "name": "stdout",
     "output_type": "stream",
     "text": [
      "<class 'pandas.core.frame.DataFrame'>\n",
      "RangeIndex: 2000 entries, 0 to 1999\n",
      "Data columns (total 18 columns):\n",
      " #   Column            Non-Null Count  Dtype  \n",
      "---  ------            --------------  -----  \n",
      " 0   artist            2000 non-null   object \n",
      " 1   song              1999 non-null   object \n",
      " 2   duration_ms       2000 non-null   int64  \n",
      " 3   explicit          2000 non-null   bool   \n",
      " 4   year              2000 non-null   int64  \n",
      " 5   popularity        2000 non-null   int64  \n",
      " 6   danceability      2000 non-null   float64\n",
      " 7   energy            2000 non-null   float64\n",
      " 8   key               2000 non-null   int64  \n",
      " 9   loudness          2000 non-null   float64\n",
      " 10  mode              2000 non-null   int64  \n",
      " 11  speechiness       2000 non-null   float64\n",
      " 12  acousticness      2000 non-null   float64\n",
      " 13  instrumentalness  2000 non-null   float64\n",
      " 14  liveness          2000 non-null   float64\n",
      " 15  valence           2000 non-null   float64\n",
      " 16  tempo             2000 non-null   float64\n",
      " 17  genre             2000 non-null   object \n",
      "dtypes: bool(1), float64(9), int64(5), object(3)\n",
      "memory usage: 267.7+ KB\n"
     ]
    }
   ],
   "source": [
    "df.info()"
   ]
  },
  {
   "cell_type": "markdown",
   "metadata": {},
   "source": [
    "<h5 style=\"font-style: italic; color: lightblue; \"><b>B)</b></h5>"
   ]
  },
  {
   "cell_type": "code",
   "execution_count": 26,
   "metadata": {},
   "outputs": [
    {
     "data": {
      "text/plain": [
       "artist              False\n",
       "song                 True\n",
       "duration_ms         False\n",
       "explicit            False\n",
       "year                False\n",
       "popularity          False\n",
       "danceability        False\n",
       "energy              False\n",
       "key                 False\n",
       "loudness            False\n",
       "mode                False\n",
       "speechiness         False\n",
       "acousticness        False\n",
       "instrumentalness    False\n",
       "liveness            False\n",
       "valence             False\n",
       "tempo               False\n",
       "genre               False\n",
       "dtype: bool"
      ]
     },
     "execution_count": 26,
     "metadata": {},
     "output_type": "execute_result"
    }
   ],
   "source": [
    "df.isnull().any()"
   ]
  },
  {
   "cell_type": "code",
   "execution_count": 34,
   "metadata": {},
   "outputs": [
    {
     "data": {
      "text/plain": [
       "1"
      ]
     },
     "execution_count": 34,
     "metadata": {},
     "output_type": "execute_result"
    }
   ],
   "source": [
    "df.isnull().any().sum()"
   ]
  },
  {
   "cell_type": "code",
   "execution_count": 177,
   "metadata": {},
   "outputs": [],
   "source": [
    "df_sin_nulos =df \n",
    "df_sin_nulos = df_sin_nulos.dropna()"
   ]
  },
  {
   "cell_type": "markdown",
   "metadata": {},
   "source": [
    "<h5 style=\"font-style: italic; color: lightblue; \"><b>C)</b></h5>"
   ]
  },
  {
   "cell_type": "code",
   "execution_count": 178,
   "metadata": {},
   "outputs": [
    {
     "data": {
      "text/html": [
       "<div>\n",
       "<style scoped>\n",
       "    .dataframe tbody tr th:only-of-type {\n",
       "        vertical-align: middle;\n",
       "    }\n",
       "\n",
       "    .dataframe tbody tr th {\n",
       "        vertical-align: top;\n",
       "    }\n",
       "\n",
       "    .dataframe thead th {\n",
       "        text-align: right;\n",
       "    }\n",
       "</style>\n",
       "<table border=\"1\" class=\"dataframe\">\n",
       "  <thead>\n",
       "    <tr style=\"text-align: right;\">\n",
       "      <th></th>\n",
       "      <th>artist</th>\n",
       "      <th>song</th>\n",
       "      <th>duration_ms</th>\n",
       "      <th>explicit</th>\n",
       "      <th>year</th>\n",
       "      <th>popularity</th>\n",
       "      <th>danceability</th>\n",
       "      <th>energy</th>\n",
       "      <th>key</th>\n",
       "      <th>loudness</th>\n",
       "      <th>mode</th>\n",
       "      <th>speechiness</th>\n",
       "      <th>acousticness</th>\n",
       "      <th>instrumentalness</th>\n",
       "      <th>liveness</th>\n",
       "      <th>valence</th>\n",
       "      <th>tempo</th>\n",
       "      <th>genre</th>\n",
       "    </tr>\n",
       "  </thead>\n",
       "  <tbody>\n",
       "    <tr>\n",
       "      <th>5</th>\n",
       "      <td>Sisqo</td>\n",
       "      <td>Thong Song</td>\n",
       "      <td>253733</td>\n",
       "      <td>True</td>\n",
       "      <td>1999</td>\n",
       "      <td>69</td>\n",
       "      <td>0.706</td>\n",
       "      <td>0.888</td>\n",
       "      <td>2</td>\n",
       "      <td>-6.959</td>\n",
       "      <td>1</td>\n",
       "      <td>0.0654</td>\n",
       "      <td>0.1190</td>\n",
       "      <td>0.000096</td>\n",
       "      <td>0.0700</td>\n",
       "      <td>0.714</td>\n",
       "      <td>121.549</td>\n",
       "      <td>hip hop, pop, R&amp;B</td>\n",
       "    </tr>\n",
       "    <tr>\n",
       "      <th>6</th>\n",
       "      <td>Eminem</td>\n",
       "      <td>The Real Slim Shady</td>\n",
       "      <td>284200</td>\n",
       "      <td>True</td>\n",
       "      <td>2000</td>\n",
       "      <td>86</td>\n",
       "      <td>0.949</td>\n",
       "      <td>0.661</td>\n",
       "      <td>5</td>\n",
       "      <td>-4.244</td>\n",
       "      <td>0</td>\n",
       "      <td>0.0572</td>\n",
       "      <td>0.0302</td>\n",
       "      <td>0.000000</td>\n",
       "      <td>0.0454</td>\n",
       "      <td>0.760</td>\n",
       "      <td>104.504</td>\n",
       "      <td>hip hop</td>\n",
       "    </tr>\n",
       "    <tr>\n",
       "      <th>19</th>\n",
       "      <td>Dr. Dre</td>\n",
       "      <td>The Next Episode</td>\n",
       "      <td>161506</td>\n",
       "      <td>True</td>\n",
       "      <td>1999</td>\n",
       "      <td>82</td>\n",
       "      <td>0.922</td>\n",
       "      <td>0.909</td>\n",
       "      <td>10</td>\n",
       "      <td>-2.429</td>\n",
       "      <td>0</td>\n",
       "      <td>0.2700</td>\n",
       "      <td>0.0281</td>\n",
       "      <td>0.000000</td>\n",
       "      <td>0.0856</td>\n",
       "      <td>0.309</td>\n",
       "      <td>95.295</td>\n",
       "      <td>hip hop</td>\n",
       "    </tr>\n",
       "    <tr>\n",
       "      <th>23</th>\n",
       "      <td>M.O.P.</td>\n",
       "      <td>Cold as Ice</td>\n",
       "      <td>244466</td>\n",
       "      <td>True</td>\n",
       "      <td>2000</td>\n",
       "      <td>54</td>\n",
       "      <td>0.656</td>\n",
       "      <td>0.880</td>\n",
       "      <td>11</td>\n",
       "      <td>-5.425</td>\n",
       "      <td>0</td>\n",
       "      <td>0.1430</td>\n",
       "      <td>0.0421</td>\n",
       "      <td>0.000000</td>\n",
       "      <td>0.2940</td>\n",
       "      <td>0.758</td>\n",
       "      <td>85.565</td>\n",
       "      <td>hip hop</td>\n",
       "    </tr>\n",
       "    <tr>\n",
       "      <th>27</th>\n",
       "      <td>Da Brat</td>\n",
       "      <td>What'chu Like (feat. Tyrese)</td>\n",
       "      <td>221160</td>\n",
       "      <td>True</td>\n",
       "      <td>2000</td>\n",
       "      <td>53</td>\n",
       "      <td>0.879</td>\n",
       "      <td>0.681</td>\n",
       "      <td>10</td>\n",
       "      <td>-8.951</td>\n",
       "      <td>0</td>\n",
       "      <td>0.2400</td>\n",
       "      <td>0.0170</td>\n",
       "      <td>0.000000</td>\n",
       "      <td>0.0669</td>\n",
       "      <td>0.817</td>\n",
       "      <td>99.974</td>\n",
       "      <td>hip hop, pop, R&amp;B</td>\n",
       "    </tr>\n",
       "    <tr>\n",
       "      <th>...</th>\n",
       "      <td>...</td>\n",
       "      <td>...</td>\n",
       "      <td>...</td>\n",
       "      <td>...</td>\n",
       "      <td>...</td>\n",
       "      <td>...</td>\n",
       "      <td>...</td>\n",
       "      <td>...</td>\n",
       "      <td>...</td>\n",
       "      <td>...</td>\n",
       "      <td>...</td>\n",
       "      <td>...</td>\n",
       "      <td>...</td>\n",
       "      <td>...</td>\n",
       "      <td>...</td>\n",
       "      <td>...</td>\n",
       "      <td>...</td>\n",
       "      <td>...</td>\n",
       "    </tr>\n",
       "    <tr>\n",
       "      <th>1984</th>\n",
       "      <td>Post Malone</td>\n",
       "      <td>Better Now</td>\n",
       "      <td>231266</td>\n",
       "      <td>True</td>\n",
       "      <td>2018</td>\n",
       "      <td>80</td>\n",
       "      <td>0.680</td>\n",
       "      <td>0.578</td>\n",
       "      <td>10</td>\n",
       "      <td>-5.804</td>\n",
       "      <td>1</td>\n",
       "      <td>0.0400</td>\n",
       "      <td>0.3310</td>\n",
       "      <td>0.000000</td>\n",
       "      <td>0.1350</td>\n",
       "      <td>0.341</td>\n",
       "      <td>145.038</td>\n",
       "      <td>hip hop</td>\n",
       "    </tr>\n",
       "    <tr>\n",
       "      <th>1985</th>\n",
       "      <td>Ed Sheeran</td>\n",
       "      <td>Cross Me (feat. Chance the Rapper &amp; PnB Rock)</td>\n",
       "      <td>206186</td>\n",
       "      <td>True</td>\n",
       "      <td>2019</td>\n",
       "      <td>64</td>\n",
       "      <td>0.746</td>\n",
       "      <td>0.787</td>\n",
       "      <td>4</td>\n",
       "      <td>-6.373</td>\n",
       "      <td>1</td>\n",
       "      <td>0.1200</td>\n",
       "      <td>0.2140</td>\n",
       "      <td>0.000000</td>\n",
       "      <td>0.0669</td>\n",
       "      <td>0.607</td>\n",
       "      <td>95.005</td>\n",
       "      <td>pop</td>\n",
       "    </tr>\n",
       "    <tr>\n",
       "      <th>1987</th>\n",
       "      <td>iann dior</td>\n",
       "      <td>gone girl</td>\n",
       "      <td>136568</td>\n",
       "      <td>True</td>\n",
       "      <td>2019</td>\n",
       "      <td>69</td>\n",
       "      <td>0.677</td>\n",
       "      <td>0.714</td>\n",
       "      <td>11</td>\n",
       "      <td>-5.637</td>\n",
       "      <td>1</td>\n",
       "      <td>0.0287</td>\n",
       "      <td>0.1620</td>\n",
       "      <td>0.000000</td>\n",
       "      <td>0.0717</td>\n",
       "      <td>0.355</td>\n",
       "      <td>94.956</td>\n",
       "      <td>hip hop, pop</td>\n",
       "    </tr>\n",
       "    <tr>\n",
       "      <th>1991</th>\n",
       "      <td>NSG</td>\n",
       "      <td>Options</td>\n",
       "      <td>240081</td>\n",
       "      <td>True</td>\n",
       "      <td>2020</td>\n",
       "      <td>57</td>\n",
       "      <td>0.836</td>\n",
       "      <td>0.621</td>\n",
       "      <td>1</td>\n",
       "      <td>-4.684</td>\n",
       "      <td>0</td>\n",
       "      <td>0.0894</td>\n",
       "      <td>0.3890</td>\n",
       "      <td>0.000092</td>\n",
       "      <td>0.1040</td>\n",
       "      <td>0.762</td>\n",
       "      <td>101.993</td>\n",
       "      <td>World/Traditional, hip hop</td>\n",
       "    </tr>\n",
       "    <tr>\n",
       "      <th>1994</th>\n",
       "      <td>Post Malone</td>\n",
       "      <td>Goodbyes (Feat. Young Thug)</td>\n",
       "      <td>174960</td>\n",
       "      <td>True</td>\n",
       "      <td>2019</td>\n",
       "      <td>1</td>\n",
       "      <td>0.580</td>\n",
       "      <td>0.653</td>\n",
       "      <td>5</td>\n",
       "      <td>-3.818</td>\n",
       "      <td>1</td>\n",
       "      <td>0.0745</td>\n",
       "      <td>0.4470</td>\n",
       "      <td>0.000000</td>\n",
       "      <td>0.1110</td>\n",
       "      <td>0.175</td>\n",
       "      <td>150.231</td>\n",
       "      <td>hip hop</td>\n",
       "    </tr>\n",
       "  </tbody>\n",
       "</table>\n",
       "<p>551 rows × 18 columns</p>\n",
       "</div>"
      ],
      "text/plain": [
       "           artist                                           song  duration_ms  \\\n",
       "5           Sisqo                                     Thong Song       253733   \n",
       "6          Eminem                            The Real Slim Shady       284200   \n",
       "19        Dr. Dre                               The Next Episode       161506   \n",
       "23         M.O.P.                                    Cold as Ice       244466   \n",
       "27        Da Brat                   What'chu Like (feat. Tyrese)       221160   \n",
       "...           ...                                            ...          ...   \n",
       "1984  Post Malone                                     Better Now       231266   \n",
       "1985   Ed Sheeran  Cross Me (feat. Chance the Rapper & PnB Rock)       206186   \n",
       "1987    iann dior                                      gone girl       136568   \n",
       "1991          NSG                                        Options       240081   \n",
       "1994  Post Malone                    Goodbyes (Feat. Young Thug)       174960   \n",
       "\n",
       "      explicit  year  popularity  danceability  energy  key  loudness  mode  \\\n",
       "5         True  1999          69         0.706   0.888    2    -6.959     1   \n",
       "6         True  2000          86         0.949   0.661    5    -4.244     0   \n",
       "19        True  1999          82         0.922   0.909   10    -2.429     0   \n",
       "23        True  2000          54         0.656   0.880   11    -5.425     0   \n",
       "27        True  2000          53         0.879   0.681   10    -8.951     0   \n",
       "...        ...   ...         ...           ...     ...  ...       ...   ...   \n",
       "1984      True  2018          80         0.680   0.578   10    -5.804     1   \n",
       "1985      True  2019          64         0.746   0.787    4    -6.373     1   \n",
       "1987      True  2019          69         0.677   0.714   11    -5.637     1   \n",
       "1991      True  2020          57         0.836   0.621    1    -4.684     0   \n",
       "1994      True  2019           1         0.580   0.653    5    -3.818     1   \n",
       "\n",
       "      speechiness  acousticness  instrumentalness  liveness  valence    tempo  \\\n",
       "5          0.0654        0.1190          0.000096    0.0700    0.714  121.549   \n",
       "6          0.0572        0.0302          0.000000    0.0454    0.760  104.504   \n",
       "19         0.2700        0.0281          0.000000    0.0856    0.309   95.295   \n",
       "23         0.1430        0.0421          0.000000    0.2940    0.758   85.565   \n",
       "27         0.2400        0.0170          0.000000    0.0669    0.817   99.974   \n",
       "...           ...           ...               ...       ...      ...      ...   \n",
       "1984       0.0400        0.3310          0.000000    0.1350    0.341  145.038   \n",
       "1985       0.1200        0.2140          0.000000    0.0669    0.607   95.005   \n",
       "1987       0.0287        0.1620          0.000000    0.0717    0.355   94.956   \n",
       "1991       0.0894        0.3890          0.000092    0.1040    0.762  101.993   \n",
       "1994       0.0745        0.4470          0.000000    0.1110    0.175  150.231   \n",
       "\n",
       "                           genre  \n",
       "5              hip hop, pop, R&B  \n",
       "6                        hip hop  \n",
       "19                       hip hop  \n",
       "23                       hip hop  \n",
       "27             hip hop, pop, R&B  \n",
       "...                          ...  \n",
       "1984                     hip hop  \n",
       "1985                         pop  \n",
       "1987                hip hop, pop  \n",
       "1991  World/Traditional, hip hop  \n",
       "1994                     hip hop  \n",
       "\n",
       "[551 rows x 18 columns]"
      ]
     },
     "execution_count": 178,
     "metadata": {},
     "output_type": "execute_result"
    }
   ],
   "source": [
    "canciones_explicitas = df_sin_nulos[df_sin_nulos[\"explicit\"] == True]\n",
    "canciones_explicitas"
   ]
  },
  {
   "cell_type": "markdown",
   "metadata": {},
   "source": [
    "<h5 style=\"font-style: italic; color: lightblue; \"><b>D)</b></h5>"
   ]
  },
  {
   "cell_type": "code",
   "execution_count": 69,
   "metadata": {},
   "outputs": [
    {
     "data": {
      "text/plain": [
       "0.0"
      ]
     },
     "execution_count": 69,
     "metadata": {},
     "output_type": "execute_result"
    }
   ],
   "source": [
    "duracion = df_sin_nulos[\"duration_ms\"]\n",
    "duracion.mean()"
   ]
  },
  {
   "cell_type": "markdown",
   "metadata": {},
   "source": [
    "<h3 style=\"font-style: italic; color: lightblue; \"><b>N2</b></h3>"
   ]
  },
  {
   "cell_type": "markdown",
   "metadata": {},
   "source": [
    "<h5 style=\"font-style: italic; color: lightblue; \"><b>a)</b></h5>"
   ]
  },
  {
   "cell_type": "code",
   "execution_count": 183,
   "metadata": {},
   "outputs": [],
   "source": [
    "tabla = canciones_explicitas.groupby(\"artist\")\n",
    "tabla.as_index(\"artist\")\n",
    "plt.show()"
   ]
  },
  {
   "cell_type": "code",
   "execution_count": null,
   "metadata": {},
   "outputs": [],
   "source": []
  }
 ],
 "metadata": {
  "kernelspec": {
   "display_name": "Python 3",
   "language": "python",
   "name": "python3"
  },
  "language_info": {
   "codemirror_mode": {
    "name": "ipython",
    "version": 3
   },
   "file_extension": ".py",
   "mimetype": "text/x-python",
   "name": "python",
   "nbconvert_exporter": "python",
   "pygments_lexer": "ipython3",
   "version": "3.12.2"
  }
 },
 "nbformat": 4,
 "nbformat_minor": 2
}
