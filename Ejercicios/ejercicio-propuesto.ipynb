{
 "cells": [
  {
   "cell_type": "code",
   "execution_count": 2,
   "metadata": {},
   "outputs": [],
   "source": [
    "import pandas as pd \n",
    "import matplotlib.pyplot as plt\n",
    "import numpy as np"
   ]
  },
  {
   "cell_type": "markdown",
   "metadata": {},
   "source": [
    "<h3 style=\"font-style: italic; color: lightblue; \"><b>N1</b></h3>"
   ]
  },
  {
   "cell_type": "markdown",
   "metadata": {},
   "source": [
    "<h5 style=\"font-style: italic; color: lightblue; \"><b>esto es solo para guiarme</b></h5>\n"
   ]
  },
  {
   "cell_type": "code",
   "execution_count": 3,
   "metadata": {},
   "outputs": [
    {
     "data": {
      "text/plain": [
       "Series_Title     False\n",
       "Poster_Link      False\n",
       "Released_Year    False\n",
       "Certificate       True\n",
       "Runtime          False\n",
       "Genre            False\n",
       "IMDB_Rating      False\n",
       "Overview         False\n",
       "Meta_score        True\n",
       "Director         False\n",
       "Star1            False\n",
       "Star2            False\n",
       "Star3            False\n",
       "Star4            False\n",
       "No_of_Votes      False\n",
       "Gross             True\n",
       "dtype: bool"
      ]
     },
     "execution_count": 3,
     "metadata": {},
     "output_type": "execute_result"
    }
   ],
   "source": [
    "datas = pd.read_csv(\"datanueva.csv\", index_col=\"ID\")\n",
    "datas.isnull().any()"
   ]
  },
  {
   "cell_type": "markdown",
   "metadata": {},
   "source": [
    "<h5 style=\"font-style: italic; color: lightblue; \"><b>A)</b></h5>\n"
   ]
  },
  {
   "cell_type": "code",
   "execution_count": 4,
   "metadata": {},
   "outputs": [
    {
     "data": {
      "text/plain": [
       "101"
      ]
     },
     "execution_count": 4,
     "metadata": {},
     "output_type": "execute_result"
    }
   ],
   "source": [
    "agrupado1 = datas['Certificate'].isna().sum()\n",
    "agrupado1"
   ]
  },
  {
   "cell_type": "code",
   "execution_count": 5,
   "metadata": {},
   "outputs": [
    {
     "data": {
      "text/plain": [
       "157"
      ]
     },
     "execution_count": 5,
     "metadata": {},
     "output_type": "execute_result"
    }
   ],
   "source": [
    "agrupado2 = datas['Meta_score'].isna().sum()\n",
    "agrupado2"
   ]
  },
  {
   "cell_type": "markdown",
   "metadata": {},
   "source": [
    "<h5 style=\"font-style: italic; color: lightblue; \"><b>B)</b></h5>\n"
   ]
  },
  {
   "cell_type": "code",
   "execution_count": 6,
   "metadata": {},
   "outputs": [
    {
     "data": {
      "text/plain": [
       "Series_Title     False\n",
       "Poster_Link      False\n",
       "Released_Year    False\n",
       "Certificate      False\n",
       "Runtime          False\n",
       "Genre            False\n",
       "IMDB_Rating      False\n",
       "Overview         False\n",
       "Meta_score       False\n",
       "Director         False\n",
       "Star1            False\n",
       "Star2            False\n",
       "Star3            False\n",
       "Star4            False\n",
       "No_of_Votes      False\n",
       "Gross             True\n",
       "dtype: bool"
      ]
     },
     "execution_count": 6,
     "metadata": {},
     "output_type": "execute_result"
    }
   ],
   "source": [
    "Data_sin_nulos = datas.dropna(subset=['Certificate','Meta_score'])\n",
    "Data_sin_nulos.isnull().any()"
   ]
  },
  {
   "cell_type": "markdown",
   "metadata": {},
   "source": [
    "<h5 style=\"font-style: italic; color: lightblue; \"><b>c)</b></h5>\n"
   ]
  },
  {
   "cell_type": "code",
   "execution_count": 7,
   "metadata": {},
   "outputs": [
    {
     "data": {
      "text/plain": [
       "Director\n",
       "Aaron Sorkin           77.000000\n",
       "Abdellatif Kechiche    89.000000\n",
       "Abhishek Kapoor        40.000000\n",
       "Adam McKay             81.000000\n",
       "Akira Kurosawa         92.666667\n",
       "                         ...    \n",
       "Yoshiaki Kawajiri      62.000000\n",
       "Yoshifumi Kondô        75.000000\n",
       "Yôjirô Takita          68.000000\n",
       "Zack Snyder            54.000000\n",
       "Zoya Akhtar            65.000000\n",
       "Name: Meta_score, Length: 434, dtype: float64"
      ]
     },
     "execution_count": 7,
     "metadata": {},
     "output_type": "execute_result"
    }
   ],
   "source": [
    "promedio = Data_sin_nulos.groupby('Director')['Meta_score'].mean()\n",
    "promedio"
   ]
  },
  {
   "cell_type": "markdown",
   "metadata": {},
   "source": [
    "<h5 style=\"font-style: italic; color: lightblue; \"><b>D)</b></h5>\n"
   ]
  },
  {
   "cell_type": "code",
   "execution_count": 8,
   "metadata": {},
   "outputs": [
    {
     "data": {
      "text/html": [
       "<div>\n",
       "<style scoped>\n",
       "    .dataframe tbody tr th:only-of-type {\n",
       "        vertical-align: middle;\n",
       "    }\n",
       "\n",
       "    .dataframe tbody tr th {\n",
       "        vertical-align: top;\n",
       "    }\n",
       "\n",
       "    .dataframe thead th {\n",
       "        text-align: right;\n",
       "    }\n",
       "</style>\n",
       "<table border=\"1\" class=\"dataframe\">\n",
       "  <thead>\n",
       "    <tr style=\"text-align: right;\">\n",
       "      <th></th>\n",
       "      <th>Series_Title</th>\n",
       "      <th>IMDB_Rating</th>\n",
       "      <th>Meta_score</th>\n",
       "    </tr>\n",
       "    <tr>\n",
       "      <th>ID</th>\n",
       "      <th></th>\n",
       "      <th></th>\n",
       "      <th></th>\n",
       "    </tr>\n",
       "  </thead>\n",
       "  <tbody>\n",
       "    <tr>\n",
       "      <th>25</th>\n",
       "      <td>Saving Private Ryan</td>\n",
       "      <td>8.6</td>\n",
       "      <td>91.0</td>\n",
       "    </tr>\n",
       "    <tr>\n",
       "      <th>47</th>\n",
       "      <td>Hotaru no haka</td>\n",
       "      <td>8.5</td>\n",
       "      <td>94.0</td>\n",
       "    </tr>\n",
       "    <tr>\n",
       "      <th>51</th>\n",
       "      <td>Casablanca</td>\n",
       "      <td>8.5</td>\n",
       "      <td>100.0</td>\n",
       "    </tr>\n",
       "    <tr>\n",
       "      <th>75</th>\n",
       "      <td>Apocalypse Now</td>\n",
       "      <td>8.4</td>\n",
       "      <td>94.0</td>\n",
       "    </tr>\n",
       "    <tr>\n",
       "      <th>81</th>\n",
       "      <td>Paths of Glory</td>\n",
       "      <td>8.4</td>\n",
       "      <td>90.0</td>\n",
       "    </tr>\n",
       "    <tr>\n",
       "      <th>85</th>\n",
       "      <td>1917</td>\n",
       "      <td>8.3</td>\n",
       "      <td>78.0</td>\n",
       "    </tr>\n",
       "    <tr>\n",
       "      <th>91</th>\n",
       "      <td>Incendies</td>\n",
       "      <td>8.3</td>\n",
       "      <td>80.0</td>\n",
       "    </tr>\n",
       "    <tr>\n",
       "      <th>94</th>\n",
       "      <td>Inglourious Basterds</td>\n",
       "      <td>8.3</td>\n",
       "      <td>69.0</td>\n",
       "    </tr>\n",
       "    <tr>\n",
       "      <th>105</th>\n",
       "      <td>Full Metal Jacket</td>\n",
       "      <td>8.3</td>\n",
       "      <td>76.0</td>\n",
       "    </tr>\n",
       "    <tr>\n",
       "      <th>151</th>\n",
       "      <td>Pan's Labyrinth</td>\n",
       "      <td>8.2</td>\n",
       "      <td>98.0</td>\n",
       "    </tr>\n",
       "    <tr>\n",
       "      <th>173</th>\n",
       "      <td>Ran</td>\n",
       "      <td>8.2</td>\n",
       "      <td>96.0</td>\n",
       "    </tr>\n",
       "    <tr>\n",
       "      <th>183</th>\n",
       "      <td>Judgment at Nuremberg</td>\n",
       "      <td>8.2</td>\n",
       "      <td>60.0</td>\n",
       "    </tr>\n",
       "    <tr>\n",
       "      <th>193</th>\n",
       "      <td>To Be or Not to Be</td>\n",
       "      <td>8.2</td>\n",
       "      <td>86.0</td>\n",
       "    </tr>\n",
       "    <tr>\n",
       "      <th>237</th>\n",
       "      <td>Taegukgi hwinalrimyeo</td>\n",
       "      <td>8.1</td>\n",
       "      <td>64.0</td>\n",
       "    </tr>\n",
       "    <tr>\n",
       "      <th>269</th>\n",
       "      <td>Platoon</td>\n",
       "      <td>8.1</td>\n",
       "      <td>92.0</td>\n",
       "    </tr>\n",
       "    <tr>\n",
       "      <th>279</th>\n",
       "      <td>The Deer Hunter</td>\n",
       "      <td>8.1</td>\n",
       "      <td>86.0</td>\n",
       "    </tr>\n",
       "    <tr>\n",
       "      <th>305</th>\n",
       "      <td>The Bridge on the River Kwai</td>\n",
       "      <td>8.1</td>\n",
       "      <td>87.0</td>\n",
       "    </tr>\n",
       "    <tr>\n",
       "      <th>409</th>\n",
       "      <td>Au revoir les enfants</td>\n",
       "      <td>8.0</td>\n",
       "      <td>88.0</td>\n",
       "    </tr>\n",
       "    <tr>\n",
       "      <th>413</th>\n",
       "      <td>Kagemusha</td>\n",
       "      <td>8.0</td>\n",
       "      <td>84.0</td>\n",
       "    </tr>\n",
       "    <tr>\n",
       "      <th>431</th>\n",
       "      <td>Doctor Zhivago</td>\n",
       "      <td>8.0</td>\n",
       "      <td>69.0</td>\n",
       "    </tr>\n",
       "    <tr>\n",
       "      <th>455</th>\n",
       "      <td>The Best Years of Our Lives</td>\n",
       "      <td>8.0</td>\n",
       "      <td>93.0</td>\n",
       "    </tr>\n",
       "    <tr>\n",
       "      <th>462</th>\n",
       "      <td>All Quiet on the Western Front</td>\n",
       "      <td>8.0</td>\n",
       "      <td>91.0</td>\n",
       "    </tr>\n",
       "    <tr>\n",
       "      <th>476</th>\n",
       "      <td>Jojo Rabbit</td>\n",
       "      <td>7.9</td>\n",
       "      <td>58.0</td>\n",
       "    </tr>\n",
       "    <tr>\n",
       "      <th>510</th>\n",
       "      <td>No Man's Land</td>\n",
       "      <td>7.9</td>\n",
       "      <td>84.0</td>\n",
       "    </tr>\n",
       "    <tr>\n",
       "      <th>543</th>\n",
       "      <td>Patton</td>\n",
       "      <td>7.9</td>\n",
       "      <td>91.0</td>\n",
       "    </tr>\n",
       "    <tr>\n",
       "      <th>582</th>\n",
       "      <td>Under sandet</td>\n",
       "      <td>7.8</td>\n",
       "      <td>75.0</td>\n",
       "    </tr>\n",
       "    <tr>\n",
       "      <th>617</th>\n",
       "      <td>The Boy in the Striped Pyjamas</td>\n",
       "      <td>7.8</td>\n",
       "      <td>55.0</td>\n",
       "    </tr>\n",
       "    <tr>\n",
       "      <th>693</th>\n",
       "      <td>The Man Who Would Be King</td>\n",
       "      <td>7.8</td>\n",
       "      <td>91.0</td>\n",
       "    </tr>\n",
       "    <tr>\n",
       "      <th>773</th>\n",
       "      <td>Zwartboek</td>\n",
       "      <td>7.7</td>\n",
       "      <td>71.0</td>\n",
       "    </tr>\n",
       "    <tr>\n",
       "      <th>791</th>\n",
       "      <td>Black Hawk Down</td>\n",
       "      <td>7.7</td>\n",
       "      <td>74.0</td>\n",
       "    </tr>\n",
       "    <tr>\n",
       "      <th>847</th>\n",
       "      <td>Love and Death</td>\n",
       "      <td>7.7</td>\n",
       "      <td>89.0</td>\n",
       "    </tr>\n",
       "    <tr>\n",
       "      <th>855</th>\n",
       "      <td>Where Eagles Dare</td>\n",
       "      <td>7.7</td>\n",
       "      <td>63.0</td>\n",
       "    </tr>\n",
       "    <tr>\n",
       "      <th>861</th>\n",
       "      <td>Zulu</td>\n",
       "      <td>7.7</td>\n",
       "      <td>77.0</td>\n",
       "    </tr>\n",
       "    <tr>\n",
       "      <th>951</th>\n",
       "      <td>Enemy at the Gates</td>\n",
       "      <td>7.6</td>\n",
       "      <td>53.0</td>\n",
       "    </tr>\n",
       "    <tr>\n",
       "      <th>956</th>\n",
       "      <td>The Thin Red Line</td>\n",
       "      <td>7.6</td>\n",
       "      <td>78.0</td>\n",
       "    </tr>\n",
       "    <tr>\n",
       "      <th>991</th>\n",
       "      <td>Giù la testa</td>\n",
       "      <td>7.6</td>\n",
       "      <td>77.0</td>\n",
       "    </tr>\n",
       "    <tr>\n",
       "      <th>992</th>\n",
       "      <td>Kelly's Heroes</td>\n",
       "      <td>7.6</td>\n",
       "      <td>50.0</td>\n",
       "    </tr>\n",
       "    <tr>\n",
       "      <th>998</th>\n",
       "      <td>From Here to Eternity</td>\n",
       "      <td>7.6</td>\n",
       "      <td>85.0</td>\n",
       "    </tr>\n",
       "  </tbody>\n",
       "</table>\n",
       "</div>"
      ],
      "text/plain": [
       "                       Series_Title  IMDB_Rating  Meta_score\n",
       "ID                                                          \n",
       "25              Saving Private Ryan          8.6        91.0\n",
       "47                   Hotaru no haka          8.5        94.0\n",
       "51                       Casablanca          8.5       100.0\n",
       "75                   Apocalypse Now          8.4        94.0\n",
       "81                   Paths of Glory          8.4        90.0\n",
       "85                             1917          8.3        78.0\n",
       "91                        Incendies          8.3        80.0\n",
       "94             Inglourious Basterds          8.3        69.0\n",
       "105               Full Metal Jacket          8.3        76.0\n",
       "151                 Pan's Labyrinth          8.2        98.0\n",
       "173                             Ran          8.2        96.0\n",
       "183           Judgment at Nuremberg          8.2        60.0\n",
       "193              To Be or Not to Be          8.2        86.0\n",
       "237           Taegukgi hwinalrimyeo          8.1        64.0\n",
       "269                         Platoon          8.1        92.0\n",
       "279                 The Deer Hunter          8.1        86.0\n",
       "305    The Bridge on the River Kwai          8.1        87.0\n",
       "409           Au revoir les enfants          8.0        88.0\n",
       "413                       Kagemusha          8.0        84.0\n",
       "431                  Doctor Zhivago          8.0        69.0\n",
       "455     The Best Years of Our Lives          8.0        93.0\n",
       "462  All Quiet on the Western Front          8.0        91.0\n",
       "476                     Jojo Rabbit          7.9        58.0\n",
       "510                   No Man's Land          7.9        84.0\n",
       "543                          Patton          7.9        91.0\n",
       "582                    Under sandet          7.8        75.0\n",
       "617  The Boy in the Striped Pyjamas          7.8        55.0\n",
       "693       The Man Who Would Be King          7.8        91.0\n",
       "773                       Zwartboek          7.7        71.0\n",
       "791                 Black Hawk Down          7.7        74.0\n",
       "847                  Love and Death          7.7        89.0\n",
       "855               Where Eagles Dare          7.7        63.0\n",
       "861                            Zulu          7.7        77.0\n",
       "951              Enemy at the Gates          7.6        53.0\n",
       "956               The Thin Red Line          7.6        78.0\n",
       "991                    Giù la testa          7.6        77.0\n",
       "992                  Kelly's Heroes          7.6        50.0\n",
       "998           From Here to Eternity          7.6        85.0"
      ]
     },
     "execution_count": 8,
     "metadata": {},
     "output_type": "execute_result"
    }
   ],
   "source": [
    "def filtros_war(genres):\n",
    "    return 'War' in genres\n",
    "DatosWar= Data_sin_nulos[Data_sin_nulos['Genre'].apply(filtros_war)] \n",
    "Data_new= DatosWar[[\"Series_Title\",\"IMDB_Rating\",\"Meta_score\"]]\n",
    "Data_new\n"
   ]
  },
  {
   "cell_type": "markdown",
   "metadata": {},
   "source": [
    "<h5 style=\"font-style: italic; color: lightblue; \"><b>E)</b></h5>\n"
   ]
  },
  {
   "cell_type": "code",
   "execution_count": 23,
   "metadata": {},
   "outputs": [
    {
     "data": {
      "image/png": "[encoded data removed]",
      "text/plain": [
       "<Figure size 1000x600 with 1 Axes>"
      ]
     },
     "metadata": {},
     "output_type": "display_data"
    }
   ],
   "source": [
    "Data_1 = pd.read_csv(\"data.csv\")\n",
    "\n",
    "Data_1 = Data_1.drop(columns=['ID'])\n",
    "\n",
    "prim10 = Data_1.head(10)\n",
    "\n",
    "prim10.set_index(\"Series_Title\", inplace=True)\n",
    "\n",
    "\n",
    "ax = prim10.plot(kind=\"bar\", figsize=(10, 6))\n",
    "\n",
    "for i, rating in enumerate(prim10[\"IMDB_Rating\"]):\n",
    "    ax.annotate(str(rating), xy=(i, rating), ha='center', va='bottom')\n",
    "\n",
    "for i, score in enumerate(prim10[\"Meta_score\"]):\n",
    "    ax.annotate(str(score), xy=(i, score), ha='center', va='bottom')\n",
    "plt.title(\"Comparacion\")\n",
    "plt.xlabel(\"\")\n",
    "\n",
    "plt.show()"
   ]
  },
  {
   "cell_type": "markdown",
   "metadata": {},
   "source": [
    ">"
   ]
  }
 ],
 "metadata": {
  "kernelspec": {
   "display_name": "Python 3",
   "language": "python",
   "name": "python3"
  },
  "language_info": {
   "codemirror_mode": {
    "name": "ipython",
    "version": 3
   },
   "file_extension": ".py",
   "mimetype": "text/x-python",
   "name": "python",
   "nbconvert_exporter": "python",
   "pygments_lexer": "ipython3",
   "version": "3.12.2"
  }
 },
 "nbformat": 4,
 "nbformat_minor": 2
}
